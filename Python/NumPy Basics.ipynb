{
 "cells": [
  {
   "cell_type": "markdown",
   "id": "9473f756",
   "metadata": {},
   "source": [
    "# NumPy"
   ]
  },
  {
   "cell_type": "code",
   "execution_count": 3,
   "id": "378c463e",
   "metadata": {},
   "outputs": [],
   "source": [
    "import numpy as np"
   ]
  },
  {
   "cell_type": "code",
   "execution_count": 4,
   "id": "c51790f4",
   "metadata": {},
   "outputs": [
    {
     "name": "stdout",
     "output_type": "stream",
     "text": [
      "[ 1  2  4  8 10]\n"
     ]
    }
   ],
   "source": [
    "arr = np.array([1,2,4, 8,10])\n",
    "print(arr)"
   ]
  },
  {
   "cell_type": "code",
   "execution_count": 5,
   "id": "3ac71651",
   "metadata": {},
   "outputs": [
    {
     "name": "stdout",
     "output_type": "stream",
     "text": [
      "<class 'numpy.ndarray'>\n"
     ]
    }
   ],
   "source": [
    "print(type(arr))"
   ]
  },
  {
   "cell_type": "code",
   "execution_count": 7,
   "id": "6d12070e",
   "metadata": {},
   "outputs": [
    {
     "name": "stdout",
     "output_type": "stream",
     "text": [
      "[[ 1  2  3]\n",
      " [ 4  5  7]\n",
      " [ 9 10 15]]\n"
     ]
    }
   ],
   "source": [
    "matrix = np.array([[1,2,3], [4,5,7], [9,10,15]])\n",
    "print(matrix)"
   ]
  },
  {
   "cell_type": "code",
   "execution_count": 10,
   "id": "325e3a6e",
   "metadata": {},
   "outputs": [
    {
     "name": "stdout",
     "output_type": "stream",
     "text": [
      "[  3  26   9  26 110]\n",
      "[ 1 22  1 10 90]\n",
      "[   2   48   20  144 1000]\n",
      "[ 2.   12.    1.25  2.25 10.  ]\n",
      "[0 0 1 2 0]\n"
     ]
    }
   ],
   "source": [
    "arr_2 = np.array([1,2,4, 8,10])\n",
    "arr_1 = np.array([2,24,5, 18,100])\n",
    "\n",
    "print(arr_1 + arr_2)\n",
    "print(arr_1 - arr_2)\n",
    "print(arr_1 * arr_2)\n",
    "print(arr_1 / arr_2)\n",
    "print(arr_1 % arr_2)"
   ]
  },
  {
   "cell_type": "code",
   "execution_count": 13,
   "id": "98070b06",
   "metadata": {},
   "outputs": [
    {
     "name": "stdout",
     "output_type": "stream",
     "text": [
      "[1, 2, 4, 8, 10, 1, 2, 4, 8, 10]\n"
     ]
    }
   ],
   "source": [
    "list_1 = [1,2,4, 8,10]\n",
    "list_2 = [1,2,4, 8,10]\n",
    "\n",
    "print(list_1 + list_2)"
   ]
  },
  {
   "cell_type": "code",
   "execution_count": 15,
   "id": "0f273856",
   "metadata": {},
   "outputs": [
    {
     "name": "stdout",
     "output_type": "stream",
     "text": [
      "[ 2.  3.  6. 10. 25.]\n"
     ]
    }
   ],
   "source": [
    "arr_3 = np.array([4, 9, 36, 100, 625])\n",
    "\n",
    "print(np.sqrt(arr_3))"
   ]
  },
  {
   "cell_type": "code",
   "execution_count": 21,
   "id": "48174f04",
   "metadata": {},
   "outputs": [
    {
     "name": "stdout",
     "output_type": "stream",
     "text": [
      "[  1   2   3   4  10  15  20 100]\n",
      "[[  1   2   3   4]\n",
      " [ 10  15  20 100]]\n"
     ]
    }
   ],
   "source": [
    "matrix_1 = np.array([1,2,3,4,10, 15, 20, 100])\n",
    "\n",
    "reshape_matrix_1 = matrix_1.reshape(2,4)\n",
    "\n",
    "print(matrix_1)\n",
    "print(reshape_matrix_1)"
   ]
  },
  {
   "cell_type": "code",
   "execution_count": 24,
   "id": "9cab6cf0",
   "metadata": {},
   "outputs": [
    {
     "name": "stdout",
     "output_type": "stream",
     "text": [
      "[[  1   2   3   6]\n",
      " [  4   5   7   6]\n",
      " [ 10  15  20 200]]\n",
      "[[  1   4  10]\n",
      " [  2   5  15]\n",
      " [  3   7  20]\n",
      " [  6   6 200]]\n"
     ]
    }
   ],
   "source": [
    "matrix_2 = np.array([[1,2,3, 6], [4,5,7, 6], [10, 15, 20, 200]])\n",
    "\n",
    "transpose_matrix_2 = matrix_2.T\n",
    "\n",
    "print(matrix_2)\n",
    "print(transpose_matrix_2)"
   ]
  },
  {
   "cell_type": "code",
   "execution_count": 27,
   "id": "fa1d19ce",
   "metadata": {},
   "outputs": [
    {
     "name": "stdout",
     "output_type": "stream",
     "text": [
      "21\n",
      "3.5\n",
      "6\n",
      "1\n"
     ]
    }
   ],
   "source": [
    "matrix_3 = np.array([1,2,3,4,5,6])\n",
    "\n",
    "print(np.sum(matrix_3))\n",
    "\n",
    "print(np.mean(matrix_3))\n",
    "\n",
    "print(np.max(matrix_3))\n",
    "print(np.min(matrix_3))"
   ]
  },
  {
   "cell_type": "code",
   "execution_count": 47,
   "id": "349980e8",
   "metadata": {},
   "outputs": [
    {
     "name": "stdout",
     "output_type": "stream",
     "text": [
      "[1 4]\n",
      "[4 5 7 6]\n"
     ]
    }
   ],
   "source": [
    "matrix_4 = np.array([[1,2,3, 6], [4,5,7, 6], [10, 15, 20, 200]])\n",
    "\n",
    "# print(matrix_4)\n",
    "# print(matrix_4[2,3])\n",
    "\n",
    "# print(matrix_3[:1])\n",
    "print(matrix_4[:2, 0])\n",
    "print(matrix_4[-2])"
   ]
  },
  {
   "cell_type": "code",
   "execution_count": null,
   "id": "92bac9d0",
   "metadata": {},
   "outputs": [],
   "source": []
  },
  {
   "cell_type": "code",
   "execution_count": null,
   "id": "bfb2341d",
   "metadata": {},
   "outputs": [],
   "source": []
  },
  {
   "cell_type": "code",
   "execution_count": null,
   "id": "91b41fd2",
   "metadata": {},
   "outputs": [],
   "source": []
  },
  {
   "cell_type": "code",
   "execution_count": null,
   "id": "2d492364",
   "metadata": {},
   "outputs": [],
   "source": []
  },
  {
   "cell_type": "code",
   "execution_count": null,
   "id": "7e24d549",
   "metadata": {},
   "outputs": [],
   "source": []
  },
  {
   "cell_type": "code",
   "execution_count": null,
   "id": "ae59991d",
   "metadata": {},
   "outputs": [],
   "source": []
  },
  {
   "cell_type": "code",
   "execution_count": null,
   "id": "45cbebe5",
   "metadata": {},
   "outputs": [],
   "source": []
  },
  {
   "cell_type": "code",
   "execution_count": null,
   "id": "fddd7b7f",
   "metadata": {},
   "outputs": [],
   "source": []
  },
  {
   "cell_type": "code",
   "execution_count": null,
   "id": "f13a6d56",
   "metadata": {},
   "outputs": [],
   "source": []
  },
  {
   "cell_type": "code",
   "execution_count": null,
   "id": "de1b24b6",
   "metadata": {},
   "outputs": [],
   "source": []
  }
 ],
 "metadata": {
  "kernelspec": {
   "display_name": "Python 3 (ipykernel)",
   "language": "python",
   "name": "python3"
  },
  "language_info": {
   "codemirror_mode": {
    "name": "ipython",
    "version": 3
   },
   "file_extension": ".py",
   "mimetype": "text/x-python",
   "name": "python",
   "nbconvert_exporter": "python",
   "pygments_lexer": "ipython3",
   "version": "3.10.9"
  }
 },
 "nbformat": 4,
 "nbformat_minor": 5
}
